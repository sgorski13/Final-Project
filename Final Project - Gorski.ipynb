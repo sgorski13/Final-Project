{
 "cells": [
  {
   "cell_type": "code",
   "execution_count": 74,
   "metadata": {},
   "outputs": [],
   "source": [
    "## Final Project - Gorski\n",
    "## Building a model to predict Lion v. Tiger\n",
    "## imported images from Google "
   ]
  },
  {
   "cell_type": "code",
   "execution_count": 10,
   "metadata": {},
   "outputs": [],
   "source": [
    "## import necessary packages\n",
    "import numpy as np\n",
    "from sklearn.ensemble import RandomForestClassifier\n",
    "import matplotlib.pyplot as plt\n",
    "import seaborn as sns; sns.set()\n",
    "import matplotlib\n",
    " \n",
    "from sklearn.model_selection import train_test_split\n",
    "import os\n",
    "import tkinter\n",
    "from os import listdir\n",
    "from PIL import Image\n",
    "\n",
    "import pandas as pd\n",
    "import numpy as np\n",
    "from sklearn import tree\n",
    "from sklearn.tree import DecisionTreeClassifier\n",
    "from sklearn import metrics\n",
    "import warnings; warnings.simplefilter('ignore')"
   ]
  },
  {
   "cell_type": "code",
   "execution_count": 11,
   "metadata": {},
   "outputs": [],
   "source": [
    "# Set the resize\n",
    "dim = 50"
   ]
  },
  {
   "cell_type": "code",
   "execution_count": 12,
   "metadata": {},
   "outputs": [],
   "source": [
    "## bringing in the Lion pictures\n",
    "\n",
    "mypath = 'C:\\\\Users\\\\student\\\\Documents\\\\Data Mining\\\\Images\\\\Lion'\n",
    "\n",
    "onlyfiles = [f for f in listdir(mypath)]\n",
    "\n",
    "img = Image.open(mypath+'\\\\'+onlyfiles[0])\n",
    "image = img.convert('RGB')\n",
    "image = image.resize((dim, dim))\n",
    "image = np.array(image)\n",
    "image = image.ravel().reshape(1,-1)\n",
    "Xtrain = image\n",
    "\n",
    "for imagePath in onlyfiles:\n",
    "    # load the image, pre-process it, and store it in the data list\n",
    "    img = Image.open(mypath+'\\\\'+imagePath)\n",
    "    image = img.convert('RGB')\n",
    "    image = image.resize((dim, dim))\n",
    "    image = np.array(image)\n",
    "    image = image.ravel().reshape(1,-1)\n",
    "    Xtrain = np.append(Xtrain, image, 0)\n",
    "\n",
    "ytrain = np.zeros(len(Xtrain))"
   ]
  },
  {
   "cell_type": "code",
   "execution_count": 13,
   "metadata": {},
   "outputs": [],
   "source": [
    "## bringing in the Tiger pictures\n",
    "\n",
    "mypath = 'C:\\\\Users\\\\student\\\\Documents\\\\Data Mining\\\\Images\\\\Tiger'\n",
    "\n",
    "onlyfiles = [f for f in listdir(mypath)]\n",
    "\n",
    "img = Image.open(mypath+'\\\\'+onlyfiles[0])\n",
    "image = img.convert('RGB')\n",
    "image = image.resize((dim, dim))\n",
    "image = np.array(image)\n",
    "image = image.ravel().reshape(1,-1)\n",
    "Xtrain = np.append(Xtrain, image, 0)\n",
    "\n",
    "for imagePath in onlyfiles:\n",
    "    # load the image, pre-process it, and store it in the data list\n",
    "    img = Image.open(mypath+'\\\\'+imagePath)\n",
    "    image = img.convert('RGB')\n",
    "    image = image.resize((dim, dim))\n",
    "    image = np.array(image)\n",
    "    image = image.ravel().reshape(1,-1)\n",
    "    Xtrain = np.append(Xtrain, image, 0)\n",
    "\n",
    "ytrain = np.append(ytrain, np.ones(len(Xtrain)-len(ytrain)))"
   ]
  },
  {
   "cell_type": "code",
   "execution_count": 27,
   "metadata": {},
   "outputs": [
    {
     "data": {
      "text/plain": [
       "GradientBoostingClassifier(criterion='friedman_mse', init=None,\n",
       "                           learning_rate=0.1, loss='deviance', max_depth=3,\n",
       "                           max_features=None, max_leaf_nodes=None,\n",
       "                           min_impurity_decrease=0.0, min_impurity_split=None,\n",
       "                           min_samples_leaf=1, min_samples_split=2,\n",
       "                           min_weight_fraction_leaf=0.0, n_estimators=100,\n",
       "                           n_iter_no_change=None, presort='auto',\n",
       "                           random_state=None, subsample=1.0, tol=0.0001,\n",
       "                           validation_fraction=0.1, verbose=0,\n",
       "                           warm_start=False)"
      ]
     },
     "execution_count": 27,
     "metadata": {},
     "output_type": "execute_result"
    }
   ],
   "source": [
    "## Training Gradient Boosting Tree\n",
    "\n",
    "from sklearn.ensemble import GradientBoostingClassifier\n",
    "model = GradientBoostingClassifier()\n",
    "model.fit(Xtrain, ytrain)"
   ]
  },
  {
   "cell_type": "code",
   "execution_count": 28,
   "metadata": {},
   "outputs": [
    {
     "data": {
      "text/plain": [
       "array([[151,   0],\n",
       "       [  0, 151]], dtype=int64)"
      ]
     },
     "execution_count": 28,
     "metadata": {},
     "output_type": "execute_result"
    }
   ],
   "source": [
    "ypred=model.predict(Xtrain)\n",
    "from sklearn.metrics import confusion_matrix\n",
    "mat = confusion_matrix(ypred, ytrain)\n",
    "mat"
   ]
  },
  {
   "cell_type": "code",
   "execution_count": 29,
   "metadata": {},
   "outputs": [
    {
     "name": "stdout",
     "output_type": "stream",
     "text": [
      "Best parameters are: {'learning_rate': 0.334, 'n_estimators': 45}\n"
     ]
    }
   ],
   "source": [
    "## Graadient Boosting Tuning\n",
    "# Decide what hyperparameter to tune then decide the searching range\n",
    "param_grid = {'n_estimators': np.arange(1,50, 2), 'learning_rate':np.linspace(0.001,1,10)}\n",
    "\n",
    "from sklearn.model_selection import GridSearchCV\n",
    "model = GridSearchCV(GradientBoostingClassifier(), param_grid, cv = 5)\n",
    "model.fit(Xtrain, ytrain)\n",
    "\n",
    "# Show the best found paramters\n",
    "print('Best parameters are:', model.best_params_)"
   ]
  },
  {
   "cell_type": "code",
   "execution_count": null,
   "metadata": {},
   "outputs": [],
   "source": []
  },
  {
   "cell_type": "code",
   "execution_count": 31,
   "metadata": {},
   "outputs": [],
   "source": [
    "## Predicting new images for Gradient Boosting\n",
    "\n",
    "from PIL import Image, ImageDraw\n",
    "\n",
    "mypath = 'C:\\\\Users\\\\student\\\\Documents\\\\Data Mining\\\\Images\\\\Test'\n",
    "\n",
    "onlyfiles = [f for f in listdir(mypath)]\n",
    "\n",
    "for imagePath in onlyfiles:\n",
    "    # load the image, pre-process it, and store it in the data list\n",
    "    img = Image.open(mypath+'//'+imagePath)\n",
    "    image = img.convert('RGB')\n",
    "    image = image.resize((dim, dim))\n",
    "    image = np.array(image)\n",
    "    image = image.ravel().reshape(1,-1)\n",
    "    if (model.predict(image)==0):\n",
    "        d = ImageDraw.Draw(img)\n",
    "        d.text((10,10), \"LION!\",(0, 0, 0))\n",
    "        img.save('C:\\\\Users\\\\student\\\\Documents\\\\Data Mining\\\\Images\\\\gb_test'+'\\\\'+imagePath)\n",
    "        \n",
    "    \n",
    "    else:\n",
    "        d = ImageDraw.Draw(img)\n",
    "        d.text((10,10), \"TIGER!\",(0, 0, 0))\n",
    "        img.save('C:\\\\Users\\\\student\\\\Documents\\\\Data Mining\\\\Images\\\\gb_test'+'\\\\'+imagePath)\n"
   ]
  },
  {
   "cell_type": "code",
   "execution_count": null,
   "metadata": {},
   "outputs": [],
   "source": []
  },
  {
   "cell_type": "code",
   "execution_count": 14,
   "metadata": {},
   "outputs": [
    {
     "data": {
      "text/plain": [
       "DecisionTreeClassifier(class_weight=None, criterion='gini', max_depth=None,\n",
       "                       max_features=None, max_leaf_nodes=None,\n",
       "                       min_impurity_decrease=0.0, min_impurity_split=None,\n",
       "                       min_samples_leaf=1, min_samples_split=2,\n",
       "                       min_weight_fraction_leaf=0.0, presort=False,\n",
       "                       random_state=None, splitter='best')"
      ]
     },
     "execution_count": 14,
     "metadata": {},
     "output_type": "execute_result"
    }
   ],
   "source": [
    "# Decision Tree\n",
    "## Create a decision tree and train\n",
    "\n",
    "model = DecisionTreeClassifier()\n",
    "model.fit(Xtrain, ytrain)"
   ]
  },
  {
   "cell_type": "code",
   "execution_count": 15,
   "metadata": {},
   "outputs": [
    {
     "name": "stdout",
     "output_type": "stream",
     "text": [
      "Best parameters are: {'criterion': 'gini', 'max_depth': 7}\n"
     ]
    }
   ],
   "source": [
    "# Decision Tree Tuning\n",
    "## Decide what hyperparameter to tune then decide the searching range\n",
    "\n",
    "param_grid = {'max_depth': range(1,10), 'criterion':['gini', 'entropy']}\n",
    "\n",
    "# Create a list of trees\n",
    "from sklearn.model_selection import GridSearchCV\n",
    "model = GridSearchCV(DecisionTreeClassifier(), param_grid, cv = 5)\n",
    "model.fit(Xtrain, ytrain)\n",
    "\n",
    "# Show the best found paramters\n",
    "print('Best parameters are:', model.best_params_)"
   ]
  },
  {
   "cell_type": "code",
   "execution_count": 16,
   "metadata": {},
   "outputs": [],
   "source": [
    "## Predicitng new images for Decision Tree\n",
    "\n",
    "from PIL import Image, ImageDraw\n",
    "\n",
    "mypath = 'C:\\\\Users\\\\student\\\\Documents\\\\Data Mining\\\\Images\\\\Test'\n",
    "\n",
    "onlyfiles = [f for f in listdir(mypath)]\n",
    "\n",
    "for imagePath in onlyfiles:\n",
    "    # load the image, pre-process it, and store it in the data list\n",
    "    img = Image.open(mypath+'//'+imagePath)\n",
    "    image = img.convert('RGB')\n",
    "    image = image.resize((dim, dim))\n",
    "    image = np.array(image)\n",
    "    image = image.ravel().reshape(1,-1)\n",
    "    if (model.predict(image)==0):\n",
    "        d = ImageDraw.Draw(img)\n",
    "        d.text((10,10), \"LION!\",(0, 0, 0))\n",
    "        img.save('C:\\\\Users\\\\student\\\\Documents\\\\Data Mining\\\\Images\\\\dt_test'+'\\\\'+imagePath)\n",
    "        \n",
    "    \n",
    "    else:\n",
    "        d = ImageDraw.Draw(img)\n",
    "        d.text((10,10), \"TIGER!\",(0, 0, 0))\n",
    "        img.save('C:\\\\Users\\\\student\\\\Documents\\\\Data Mining\\\\Images\\\\dt_test'+'\\\\'+imagePath)\n"
   ]
  },
  {
   "cell_type": "code",
   "execution_count": 7,
   "metadata": {},
   "outputs": [
    {
     "data": {
      "text/plain": [
       "AdaBoostClassifier(algorithm='SAMME.R', base_estimator=None, learning_rate=1.0,\n",
       "                   n_estimators=50, random_state=None)"
      ]
     },
     "execution_count": 7,
     "metadata": {},
     "output_type": "execute_result"
    }
   ],
   "source": [
    "## AdaBoost\n",
    "\n",
    "from sklearn.ensemble import AdaBoostClassifier\n",
    "\n",
    "model = AdaBoostClassifier()\n",
    "model.fit(Xtrain, ytrain)"
   ]
  },
  {
   "cell_type": "code",
   "execution_count": 8,
   "metadata": {},
   "outputs": [
    {
     "name": "stdout",
     "output_type": "stream",
     "text": [
      "Best parameters are: {'learning_rate': 0.889, 'n_estimators': 75}\n"
     ]
    }
   ],
   "source": [
    "## AdaBoost Tuning\n",
    "\n",
    "# Decide what hyperparameter to tune then decide the searching range\n",
    "param_grid = {'n_estimators': np.arange(1,100, 2), 'learning_rate':np.linspace(0.001,1,10)}\n",
    "\n",
    "from sklearn.model_selection import GridSearchCV\n",
    "model = GridSearchCV(AdaBoostClassifier(), param_grid, cv = 5)\n",
    "model.fit(Xtrain, ytrain)\n",
    "\n",
    "# Show the best found paramters\n",
    "print('Best parameters are:', model.best_params_)"
   ]
  },
  {
   "cell_type": "code",
   "execution_count": 9,
   "metadata": {},
   "outputs": [],
   "source": [
    "## Predicitng new images for AdaBoost\n",
    "\n",
    "from PIL import Image, ImageDraw\n",
    "\n",
    "mypath = 'C:\\\\Users\\\\student\\\\Documents\\\\Data Mining\\\\Images\\\\Test'\n",
    "\n",
    "onlyfiles = [f for f in listdir(mypath)]\n",
    "\n",
    "for imagePath in onlyfiles:\n",
    "    # load the image, pre-process it, and store it in the data list\n",
    "    img = Image.open(mypath+'//'+imagePath)\n",
    "    image = img.convert('RGB')\n",
    "    image = image.resize((dim, dim))\n",
    "    image = np.array(image)\n",
    "    image = image.ravel().reshape(1,-1)\n",
    "    if (model.predict(image)==0):\n",
    "        d = ImageDraw.Draw(img)\n",
    "        d.text((10,10), \"LION!\",(0, 0, 0))\n",
    "        img.save('C:\\\\Users\\\\student\\\\Documents\\\\Data Mining\\\\Images\\\\ab_test'+'\\\\'+imagePath)\n",
    "        \n",
    "    \n",
    "    else:\n",
    "        d = ImageDraw.Draw(img)\n",
    "        d.text((10,10), \"TIGER!\",(0, 0, 0))\n",
    "        img.save('C:\\\\Users\\\\student\\\\Documents\\\\Data Mining\\\\Images\\\\ab_test'+'\\\\'+imagePath)"
   ]
  },
  {
   "cell_type": "code",
   "execution_count": 38,
   "metadata": {},
   "outputs": [
    {
     "data": {
      "text/plain": [
       "RandomForestClassifier(bootstrap=True, class_weight=None, criterion='gini',\n",
       "                       max_depth=None, max_features='auto', max_leaf_nodes=None,\n",
       "                       min_impurity_decrease=0.0, min_impurity_split=None,\n",
       "                       min_samples_leaf=1, min_samples_split=2,\n",
       "                       min_weight_fraction_leaf=0.0, n_estimators=10,\n",
       "                       n_jobs=None, oob_score=False, random_state=None,\n",
       "                       verbose=0, warm_start=False)"
      ]
     },
     "execution_count": 38,
     "metadata": {},
     "output_type": "execute_result"
    }
   ],
   "source": [
    "## Random Forest\n",
    "\n",
    "from sklearn.ensemble import RandomForestClassifier\n",
    "\n",
    "model = RandomForestClassifier()\n",
    "model.fit(Xtrain, ytrain)"
   ]
  },
  {
   "cell_type": "code",
   "execution_count": 39,
   "metadata": {},
   "outputs": [
    {
     "name": "stdout",
     "output_type": "stream",
     "text": [
      "Best parameters are: {'max_features': 7, 'n_estimators': 40}\n"
     ]
    }
   ],
   "source": [
    "## Random Forest Tuning\n",
    "\n",
    "# Decide what hyperparameter to tune then decide the searching range\n",
    "param_grid = {'n_estimators': np.arange(2,50, 2), 'max_features':np.arange(2,10)}\n",
    "\n",
    "from sklearn.model_selection import GridSearchCV\n",
    "model = GridSearchCV(RandomForestClassifier(), param_grid, cv = 5)\n",
    "model.fit(Xtrain, ytrain)\n",
    "\n",
    "# Show the best found paramters\n",
    "print('Best parameters are:', model.best_params_)"
   ]
  },
  {
   "cell_type": "code",
   "execution_count": 40,
   "metadata": {},
   "outputs": [],
   "source": [
    "## Predicitng new images for Random Forest\n",
    "\n",
    "from PIL import Image, ImageDraw\n",
    "\n",
    "mypath = 'C:\\\\Users\\\\student\\\\Documents\\\\Data Mining\\\\Images\\\\Test'\n",
    "\n",
    "onlyfiles = [f for f in listdir(mypath)]\n",
    "\n",
    "for imagePath in onlyfiles:\n",
    "    # load the image, pre-process it, and store it in the data list\n",
    "    img = Image.open(mypath+'//'+imagePath)\n",
    "    image = img.convert('RGB')\n",
    "    image = image.resize((dim, dim))\n",
    "    image = np.array(image)\n",
    "    image = image.ravel().reshape(1,-1)\n",
    "    if (model.predict(image)==0):\n",
    "        d = ImageDraw.Draw(img)\n",
    "        d.text((10,10), \"LION!\",(0, 0, 0))\n",
    "        img.save('C:\\\\Users\\\\student\\\\Documents\\\\Data Mining\\\\Images\\\\rf_test'+'\\\\'+imagePath)\n",
    "        \n",
    "    \n",
    "    else:\n",
    "        d = ImageDraw.Draw(img)\n",
    "        d.text((10,10), \"TIGER!\",(0, 0, 0))\n",
    "        img.save('C:\\\\Users\\\\student\\\\Documents\\\\Data Mining\\\\Images\\\\rf_test'+'\\\\'+imagePath)"
   ]
  },
  {
   "cell_type": "code",
   "execution_count": 41,
   "metadata": {},
   "outputs": [
    {
     "data": {
      "text/plain": [
       "KNeighborsClassifier(algorithm='auto', leaf_size=30, metric='minkowski',\n",
       "                     metric_params=None, n_jobs=None, n_neighbors=5, p=2,\n",
       "                     weights='uniform')"
      ]
     },
     "execution_count": 41,
     "metadata": {},
     "output_type": "execute_result"
    }
   ],
   "source": [
    "## KNN\n",
    "from sklearn.neighbors import KNeighborsClassifier\n",
    "model = KNeighborsClassifier()\n",
    "model.fit(Xtrain, ytrain)"
   ]
  },
  {
   "cell_type": "code",
   "execution_count": 42,
   "metadata": {},
   "outputs": [
    {
     "name": "stdout",
     "output_type": "stream",
     "text": [
      "Best parameters are: {'n_neighbors': 4}\n"
     ]
    }
   ],
   "source": [
    "## KNN Tuning\n",
    "\n",
    "# Decide what hyperparameter to tune then decide the searching range\n",
    "param_grid = {'n_neighbors': np.arange(2,20, 2)}\n",
    "\n",
    "from sklearn.model_selection import GridSearchCV\n",
    "model = GridSearchCV(KNeighborsClassifier(), param_grid, cv = 5)\n",
    "model.fit(Xtrain, ytrain)\n",
    "\n",
    "# Show the best found paramters\n",
    "print('Best parameters are:', model.best_params_)"
   ]
  },
  {
   "cell_type": "code",
   "execution_count": 43,
   "metadata": {},
   "outputs": [],
   "source": [
    "## Predicitng new images for KNN\n",
    "\n",
    "from PIL import Image, ImageDraw\n",
    "\n",
    "mypath = 'C:\\\\Users\\\\student\\\\Documents\\\\Data Mining\\\\Images\\\\Test'\n",
    "\n",
    "onlyfiles = [f for f in listdir(mypath)]\n",
    "\n",
    "for imagePath in onlyfiles:\n",
    "    # load the image, pre-process it, and store it in the data list\n",
    "    img = Image.open(mypath+'//'+imagePath)\n",
    "    image = img.convert('RGB')\n",
    "    image = image.resize((dim, dim))\n",
    "    image = np.array(image)\n",
    "    image = image.ravel().reshape(1,-1)\n",
    "    if (model.predict(image)==0):\n",
    "        d = ImageDraw.Draw(img)\n",
    "        d.text((10,10), \"LION!\",(0, 0, 0))\n",
    "        img.save('C:\\\\Users\\\\student\\\\Documents\\\\Data Mining\\\\Images\\\\knn_test'+'\\\\'+imagePath)\n",
    "        \n",
    "    \n",
    "    else:\n",
    "        d = ImageDraw.Draw(img)\n",
    "        d.text((10,10), \"TIGER!\",(0, 0, 0))\n",
    "        img.save('C:\\\\Users\\\\student\\\\Documents\\\\Data Mining\\\\Images\\\\knn_test'+'\\\\'+imagePath)"
   ]
  },
  {
   "cell_type": "code",
   "execution_count": 44,
   "metadata": {},
   "outputs": [
    {
     "data": {
      "text/plain": [
       "SGDClassifier(alpha=1, average=False, class_weight=None, early_stopping=False,\n",
       "              epsilon=0.1, eta0=0.0, fit_intercept=True, l1_ratio=0.1,\n",
       "              learning_rate='optimal', loss='log', max_iter=1000,\n",
       "              n_iter_no_change=5, n_jobs=None, penalty='elasticnet',\n",
       "              power_t=0.5, random_state=None, shuffle=True, tol=0.001,\n",
       "              validation_fraction=0.1, verbose=0, warm_start=False)"
      ]
     },
     "execution_count": 44,
     "metadata": {},
     "output_type": "execute_result"
    }
   ],
   "source": [
    "## ElasticNet\n",
    "\n",
    "from sklearn.linear_model import SGDClassifier\n",
    "model = SGDClassifier(loss='log', penalty='elasticnet', alpha=1, l1_ratio=.1)\n",
    "\n",
    "model.fit(Xtrain, ytrain)"
   ]
  },
  {
   "cell_type": "code",
   "execution_count": 45,
   "metadata": {},
   "outputs": [
    {
     "name": "stdout",
     "output_type": "stream",
     "text": [
      "Best parameters are: {'alpha': 3.4000000000000004, 'l1_ratio': 0.0}\n"
     ]
    }
   ],
   "source": [
    "## ElasticNet Tuning\n",
    "\n",
    "# Decide what hyperparameter to tune then decide the searching range\n",
    "param_grid = {'alpha':np.linspace(0.1,10, 10), 'l1_ratio':np.linspace(0,1,10)}\n",
    "\n",
    "from sklearn.model_selection import GridSearchCV\n",
    "model = GridSearchCV(SGDClassifier(loss='log', penalty='elasticnet'), param_grid, cv = 5)\n",
    "model.fit(Xtrain, ytrain)\n",
    "\n",
    "# Show the best found paramters\n",
    "print('Best parameters are:', model.best_params_)"
   ]
  },
  {
   "cell_type": "code",
   "execution_count": 46,
   "metadata": {},
   "outputs": [],
   "source": [
    "## Predicitng new images for ElasticNet\n",
    "\n",
    "from PIL import Image, ImageDraw\n",
    "\n",
    "mypath = 'C:\\\\Users\\\\student\\\\Documents\\\\Data Mining\\\\Images\\\\Test'\n",
    "\n",
    "onlyfiles = [f for f in listdir(mypath)]\n",
    "\n",
    "for imagePath in onlyfiles:\n",
    "    # load the image, pre-process it, and store it in the data list\n",
    "    img = Image.open(mypath+'//'+imagePath)\n",
    "    image = img.convert('RGB')\n",
    "    image = image.resize((dim, dim))\n",
    "    image = np.array(image)\n",
    "    image = image.ravel().reshape(1,-1)\n",
    "    if (model.predict(image)==0):\n",
    "        d = ImageDraw.Draw(img)\n",
    "        d.text((10,10), \"LION!\",(0, 0, 0))\n",
    "        img.save('C:\\\\Users\\\\student\\\\Documents\\\\Data Mining\\\\Images\\\\en_test'+'\\\\'+imagePath)\n",
    "        \n",
    "    \n",
    "    else:\n",
    "        d = ImageDraw.Draw(img)\n",
    "        d.text((10,10), \"TIGER!\",(0, 0, 0))\n",
    "        img.save('C:\\\\Users\\\\student\\\\Documents\\\\Data Mining\\\\Images\\\\en_test'+'\\\\'+imagePath)"
   ]
  },
  {
   "cell_type": "code",
   "execution_count": null,
   "metadata": {},
   "outputs": [],
   "source": []
  }
 ],
 "metadata": {
  "kernelspec": {
   "display_name": "Python 3",
   "language": "python",
   "name": "python3"
  },
  "language_info": {
   "codemirror_mode": {
    "name": "ipython",
    "version": 3
   },
   "file_extension": ".py",
   "mimetype": "text/x-python",
   "name": "python",
   "nbconvert_exporter": "python",
   "pygments_lexer": "ipython3",
   "version": "3.7.3"
  }
 },
 "nbformat": 4,
 "nbformat_minor": 4
}
